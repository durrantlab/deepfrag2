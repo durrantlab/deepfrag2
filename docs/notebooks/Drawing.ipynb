{
 "cells": [
  {
   "cell_type": "code",
   "execution_count": 3,
   "metadata": {},
   "outputs": [],
   "source": [
    "import sys\n",
    "sys.path.append('../..')"
   ]
  },
  {
   "cell_type": "code",
   "execution_count": 8,
   "metadata": {},
   "outputs": [],
   "source": [
    "from collagen import Mol, VoxelParams, VoxelParamsDefault\n",
    "from collagen.draw import VoxelView"
   ]
  },
  {
   "cell_type": "code",
   "execution_count": 6,
   "metadata": {},
   "outputs": [],
   "source": [
    "m = Mol.from_smiles('CN1CCC23C4C1CC5=C2C(=C(C=C5)O)OC3C(C=C4)O', make_3D=True)"
   ]
  },
  {
   "cell_type": "code",
   "execution_count": 7,
   "metadata": {},
   "outputs": [
    {
     "data": {
      "application/3dmoljs_load.v0": "<div id=\"3dmolviewer_1632283162813362\"  style=\"position: relative; width: 600px; height: 600px\">\n        <p id=\"3dmolwarning_1632283162813362\" style=\"background-color:#ffcccc;color:black\">You appear to be running in JupyterLab (or JavaScript failed to load for some other reason).  You need to install the 3dmol extension: <br>\n        <tt>jupyter labextension install jupyterlab_3dmol</tt></p>\n        </div>\n<script>\n\nvar loadScriptAsync = function(uri){\n  return new Promise((resolve, reject) => {\n    var tag = document.createElement('script');\n    tag.src = uri;\n    tag.async = true;\n    tag.onload = () => {\n      resolve();\n    };\n  var firstScriptTag = document.getElementsByTagName('script')[0];\n  firstScriptTag.parentNode.insertBefore(tag, firstScriptTag);\n});\n};\n\nif(typeof $3Dmolpromise === 'undefined') {\n$3Dmolpromise = null;\n  $3Dmolpromise = loadScriptAsync('https://3dmol.org/build/3Dmol.js');\n}\n\nvar viewer_1632283162813362 = null;\nvar warn = document.getElementById(\"3dmolwarning_1632283162813362\");\nif(warn) {\n    warn.parentNode.removeChild(warn);\n}\n$3Dmolpromise.then(function() {\nviewer_1632283162813362 = $3Dmol.createViewer($(\"#3dmolviewer_1632283162813362\"),{backgroundColor:\"white\"});\nviewer_1632283162813362.zoomTo();\n\tviewer_1632283162813362.addModel(\"\\n     RDKit          3D\\n\\n 21 25  0  0  0  0  0  0  0  0999 V2000\\n   -4.1154   -0.5398   -0.2438 C   0  0  0  0  0  0  0  0  0  0  0  0\\n   -2.8677   -1.1844    0.1285 N   0  0  0  0  0  0  0  0  0  0  0  0\\n   -2.4547   -0.6065    1.3870 C   0  0  0  0  0  0  0  0  0  0  0  0\\n   -0.9636   -0.4475    1.5311 C   0  0  0  0  0  0  0  0  0  0  0  0\\n   -0.3158    0.2738    0.4084 C   0  0  0  0  0  0  0  0  0  0  0  0\\n   -1.2323    0.3674   -0.8259 C   0  0  0  0  0  0  0  0  0  0  0  0\\n   -1.8976   -0.9404   -0.9277 C   0  0  0  0  0  0  0  0  0  0  0  0\\n   -0.9617   -2.0955   -1.1102 C   0  0  0  0  0  0  0  0  0  0  0  0\\n    0.4698   -1.7234   -0.8292 C   0  0  0  0  0  0  0  0  0  0  0  0\\n    0.7649   -0.5938   -0.1498 C   0  0  0  0  0  0  0  0  0  0  0  0\\n    1.9765   -0.0962    0.1389 C   0  0  0  0  0  0  0  0  0  0  0  0\\n    3.0614   -0.8313   -0.3084 C   0  0  0  0  0  0  0  0  0  0  0  0\\n    2.8517   -2.0193   -1.0199 C   0  0  0  0  0  0  0  0  0  0  0  0\\n    1.5433   -2.4545   -1.2745 C   0  0  0  0  0  0  0  0  0  0  0  0\\n    4.3426   -0.3700   -0.0389 O   0  0  0  0  0  0  0  0  0  0  0  0\\n    1.8066    1.1201    0.8589 O   0  0  0  0  0  0  0  0  0  0  0  0\\n    0.4249    1.5152    0.7430 C   0  0  0  0  0  0  0  0  0  0  0  0\\n    0.1995    2.5462   -0.3359 C   0  0  0  0  0  0  0  0  0  0  0  0\\n   -1.2975    2.7191   -0.4975 C   0  0  0  0  0  0  0  0  0  0  0  0\\n   -1.9886    1.5827   -0.7457 C   0  0  0  0  0  0  0  0  0  0  0  0\\n    0.6537    3.7783    0.1737 O   0  0  0  0  0  0  0  0  0  0  0  0\\n  1  2  1  0\\n  2  3  1  0\\n  3  4  1  0\\n  4  5  1  0\\n  5  6  1  0\\n  6  7  1  0\\n  7  8  1  0\\n  8  9  1  0\\n  9 10  2  0\\n 10 11  1  0\\n 11 12  2  0\\n 12 13  1  0\\n 13 14  2  0\\n 12 15  1  0\\n 11 16  1  0\\n 16 17  1  0\\n 17 18  1  0\\n 18 19  1  0\\n 19 20  2  0\\n 18 21  1  0\\n  7  2  1  0\\n 10  5  1  0\\n 17  5  1  0\\n 20  6  1  0\\n 14  9  1  0\\nM  END\\n$$$$\\n\",\"sdf\");\n\tviewer_1632283162813362.setStyle({\"model\": -1},{\"stick\": {}});\n\tviewer_1632283162813362.zoomTo();\n\tviewer_1632283162813362.render();\nviewer_1632283162813362.render();\n});\n</script>",
      "text/html": [
       "<div id=\"3dmolviewer_1632283162813362\"  style=\"position: relative; width: 600px; height: 600px\">\n",
       "        <p id=\"3dmolwarning_1632283162813362\" style=\"background-color:#ffcccc;color:black\">You appear to be running in JupyterLab (or JavaScript failed to load for some other reason).  You need to install the 3dmol extension: <br>\n",
       "        <tt>jupyter labextension install jupyterlab_3dmol</tt></p>\n",
       "        </div>\n",
       "<script>\n",
       "\n",
       "var loadScriptAsync = function(uri){\n",
       "  return new Promise((resolve, reject) => {\n",
       "    var tag = document.createElement('script');\n",
       "    tag.src = uri;\n",
       "    tag.async = true;\n",
       "    tag.onload = () => {\n",
       "      resolve();\n",
       "    };\n",
       "  var firstScriptTag = document.getElementsByTagName('script')[0];\n",
       "  firstScriptTag.parentNode.insertBefore(tag, firstScriptTag);\n",
       "});\n",
       "};\n",
       "\n",
       "if(typeof $3Dmolpromise === 'undefined') {\n",
       "$3Dmolpromise = null;\n",
       "  $3Dmolpromise = loadScriptAsync('https://3dmol.org/build/3Dmol.js');\n",
       "}\n",
       "\n",
       "var viewer_1632283162813362 = null;\n",
       "var warn = document.getElementById(\"3dmolwarning_1632283162813362\");\n",
       "if(warn) {\n",
       "    warn.parentNode.removeChild(warn);\n",
       "}\n",
       "$3Dmolpromise.then(function() {\n",
       "viewer_1632283162813362 = $3Dmol.createViewer($(\"#3dmolviewer_1632283162813362\"),{backgroundColor:\"white\"});\n",
       "viewer_1632283162813362.zoomTo();\n",
       "\tviewer_1632283162813362.addModel(\"\\n     RDKit          3D\\n\\n 21 25  0  0  0  0  0  0  0  0999 V2000\\n   -4.1154   -0.5398   -0.2438 C   0  0  0  0  0  0  0  0  0  0  0  0\\n   -2.8677   -1.1844    0.1285 N   0  0  0  0  0  0  0  0  0  0  0  0\\n   -2.4547   -0.6065    1.3870 C   0  0  0  0  0  0  0  0  0  0  0  0\\n   -0.9636   -0.4475    1.5311 C   0  0  0  0  0  0  0  0  0  0  0  0\\n   -0.3158    0.2738    0.4084 C   0  0  0  0  0  0  0  0  0  0  0  0\\n   -1.2323    0.3674   -0.8259 C   0  0  0  0  0  0  0  0  0  0  0  0\\n   -1.8976   -0.9404   -0.9277 C   0  0  0  0  0  0  0  0  0  0  0  0\\n   -0.9617   -2.0955   -1.1102 C   0  0  0  0  0  0  0  0  0  0  0  0\\n    0.4698   -1.7234   -0.8292 C   0  0  0  0  0  0  0  0  0  0  0  0\\n    0.7649   -0.5938   -0.1498 C   0  0  0  0  0  0  0  0  0  0  0  0\\n    1.9765   -0.0962    0.1389 C   0  0  0  0  0  0  0  0  0  0  0  0\\n    3.0614   -0.8313   -0.3084 C   0  0  0  0  0  0  0  0  0  0  0  0\\n    2.8517   -2.0193   -1.0199 C   0  0  0  0  0  0  0  0  0  0  0  0\\n    1.5433   -2.4545   -1.2745 C   0  0  0  0  0  0  0  0  0  0  0  0\\n    4.3426   -0.3700   -0.0389 O   0  0  0  0  0  0  0  0  0  0  0  0\\n    1.8066    1.1201    0.8589 O   0  0  0  0  0  0  0  0  0  0  0  0\\n    0.4249    1.5152    0.7430 C   0  0  0  0  0  0  0  0  0  0  0  0\\n    0.1995    2.5462   -0.3359 C   0  0  0  0  0  0  0  0  0  0  0  0\\n   -1.2975    2.7191   -0.4975 C   0  0  0  0  0  0  0  0  0  0  0  0\\n   -1.9886    1.5827   -0.7457 C   0  0  0  0  0  0  0  0  0  0  0  0\\n    0.6537    3.7783    0.1737 O   0  0  0  0  0  0  0  0  0  0  0  0\\n  1  2  1  0\\n  2  3  1  0\\n  3  4  1  0\\n  4  5  1  0\\n  5  6  1  0\\n  6  7  1  0\\n  7  8  1  0\\n  8  9  1  0\\n  9 10  2  0\\n 10 11  1  0\\n 11 12  2  0\\n 12 13  1  0\\n 13 14  2  0\\n 12 15  1  0\\n 11 16  1  0\\n 16 17  1  0\\n 17 18  1  0\\n 18 19  1  0\\n 19 20  2  0\\n 18 21  1  0\\n  7  2  1  0\\n 10  5  1  0\\n 17  5  1  0\\n 20  6  1  0\\n 14  9  1  0\\nM  END\\n$$$$\\n\",\"sdf\");\n",
       "\tviewer_1632283162813362.setStyle({\"model\": -1},{\"stick\": {}});\n",
       "\tviewer_1632283162813362.zoomTo();\n",
       "\tviewer_1632283162813362.render();\n",
       "viewer_1632283162813362.render();\n",
       "});\n",
       "</script>"
      ]
     },
     "metadata": {},
     "output_type": "display_data"
    },
    {
     "data": {
      "text/plain": [
       "<py3Dmol.view at 0x7face0b56668>"
      ]
     },
     "execution_count": 7,
     "metadata": {},
     "output_type": "execute_result"
    }
   ],
   "source": [
    "m.stick()"
   ]
  },
  {
   "cell_type": "code",
   "execution_count": 14,
   "metadata": {},
   "outputs": [
    {
     "data": {
      "application/vnd.jupyter.widget-view+json": {
       "model_id": "401690f951484084aa8959c53f483f84",
       "version_major": 2,
       "version_minor": 0
      },
      "text/plain": [
       "Output()"
      ]
     },
     "metadata": {},
     "output_type": "display_data"
    }
   ],
   "source": [
    "tensor = m.voxelize(VoxelParamsDefault.DeepFrag, cpu=True)\n",
    "VoxelView.draw(tensor, color_map=[0, 0, 0x0000ff, 0xff0000, 0xffff00])"
   ]
  },
  {
   "cell_type": "code",
   "execution_count": null,
   "metadata": {},
   "outputs": [],
   "source": []
  }
 ],
 "metadata": {
  "kernelspec": {
   "display_name": "cbio3.6",
   "language": "python",
   "name": "cbio3.6"
  },
  "language_info": {
   "codemirror_mode": {
    "name": "ipython",
    "version": 3
   },
   "file_extension": ".py",
   "mimetype": "text/x-python",
   "name": "python",
   "nbconvert_exporter": "python",
   "pygments_lexer": "ipython3",
   "version": "3.6.10"
  }
 },
 "nbformat": 4,
 "nbformat_minor": 4
}
